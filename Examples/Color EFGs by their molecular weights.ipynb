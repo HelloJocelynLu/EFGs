{
 "cells": [
  {
   "cell_type": "code",
   "execution_count": 1,
   "id": "0678378b",
   "metadata": {},
   "outputs": [],
   "source": [
    "from IPython.display import SVG, Image\n",
    "from rdkit import Chem\n",
    "from rdkit.Chem import rdDepictor,Descriptors\n",
    "from rdkit.Chem.Draw import rdMolDraw2D\n",
    "import matplotlib.cm as cm\n",
    "from matplotlib.colors import Normalize\n",
    "import re\n",
    "from EFGs import mol2frag"
   ]
  },
  {
   "cell_type": "code",
   "execution_count": 2,
   "id": "0a671a3f",
   "metadata": {},
   "outputs": [],
   "source": [
    "def prettymol(smiles, asMol=False, label=None, path='', imgsize=(300, 200), highlights=None):\n",
    "    '''\n",
    "    highlights is a dictionary, which may contains:\n",
    "    highlightAtoms: list\n",
    "    highlightBonds: list\n",
    "    highlightAtomRadii: dict[int]=float, atom index (int), radius (float)\n",
    "    highlightAtomColors: dict[int]=tuple, index (int), color (tuple, length=3)\n",
    "    highlightBondColors: dict[int]=tuple,index (int), color (tuple, length=3)\n",
    "    '''\n",
    "    if asMol:\n",
    "        mol = smiles.__copy__()\n",
    "    else:\n",
    "        mol = Chem.MolFromSmiles(smiles)\n",
    "    try:\n",
    "        mol = rdMolDraw2D.PrepareMolForDrawing(mol)\n",
    "        if '.png' in path:\n",
    "            drawer = rdMolDraw2D.MolDraw2DCairo(*imgsize)\n",
    "        else:\n",
    "            drawer = rdMolDraw2D.MolDraw2DSVG(*imgsize)\n",
    "        opts = drawer.drawOptions()\n",
    "        if label == 'map':\n",
    "            for i in range(mol.GetNumAtoms()):\n",
    "                opts.atomLabels[i] = mol.GetAtomWithIdx(\n",
    "                    i).GetSymbol()+str(mol.GetAtomWithIdx(i).GetAtomMapNum())\n",
    "        if label == 'idx':\n",
    "            for i in range(mol.GetNumAtoms()):\n",
    "                opts.atomLabels[i] = mol.GetAtomWithIdx(i).GetSymbol()+str(i)\n",
    "        if not highlights:\n",
    "            drawer.DrawMolecule(mol)\n",
    "        else:\n",
    "            drawer.DrawMolecule(mol, **highlights)\n",
    "        drawer.FinishDrawing()\n",
    "        if '.png' in path:\n",
    "            drawer.WriteDrawingText(path)\n",
    "            display(Image(path))\n",
    "        else:\n",
    "            svg = drawer.GetDrawingText()\n",
    "            display(SVG(svg.replace('svg:','')))\n",
    "            if '.svg' in path:\n",
    "                with open(path, 'w') as wf:\n",
    "                    print(svg, file=wf)\n",
    "        return drawer\n",
    "    except Exception as e:\n",
    "        print(\"Check your molecule!!!\",e)\n",
    "        return"
   ]
  },
  {
   "cell_type": "code",
   "execution_count": 3,
   "id": "60adbc02",
   "metadata": {
    "scrolled": true
   },
   "outputs": [
    {
     "name": "stdout",
     "output_type": "stream",
     "text": [
      "Input SMILES:Cc1cc(O)c2c(c1)C(=O)c1cccc(O)c1C2=O\n"
     ]
    },
    {
     "data": {
      "image/png": "[encoded data removed]",
      "text/plain": [
       "<IPython.core.display.Image object>"
      ]
     },
     "metadata": {},
     "output_type": "display_data"
    },
    {
     "data": {
      "text/plain": [
       "<rdkit.Chem.Draw.rdMolDraw2D.MolDraw2DCairo at 0x7f4849731c70>"
      ]
     },
     "execution_count": 3,
     "metadata": {},
     "output_type": "execute_result"
    }
   ],
   "source": [
    "my_cmap = cm.get_cmap('cool')\n",
    "patt = r'[C,H][0-9]{2}[0,-1,1]'\n",
    "# Get normalize function (takes data in range [vmin, vmax] -> [0, 1])\n",
    "my_norm = Normalize(vmin=0, vmax=100)\n",
    "\n",
    "smiles = input(\"Input SMILES:\")\n",
    "mol = Chem.MolFromSmiles(smiles)\n",
    "\n",
    "a,b,c,d = mol2frag(mol, returnidx=True)\n",
    "atommap,bondmap = {}, {}\n",
    "for s,i in zip(a+b, c+d):\n",
    "    if re.match(patt, s):\n",
    "        m = Chem.MolFromSmiles(s[0])\n",
    "    else:\n",
    "        m = Chem.MolFromSmiles(s)\n",
    "    mw = Descriptors.HeavyAtomMolWt(m)\n",
    "    atommap.update({x:my_cmap(my_norm(mw))[:3] for x in i})\n",
    "\n",
    "for b in mol.GetBonds():\n",
    "    if atommap[b.GetBeginAtomIdx()] == atommap[b.GetEndAtomIdx()]:\n",
    "        bondmap[b.GetIdx()]=atommap[b.GetBeginAtomIdx()]\n",
    "\n",
    "highlights = {\n",
    "    \"highlightAtoms\": list(atommap.keys()),\n",
    "    \"highlightAtomColors\": atommap,\n",
    "    \"highlightBonds\": list(bondmap.keys()),\n",
    "    \"highlightBondColors\": bondmap,\n",
    "}\n",
    "\n",
    "prettymol(smiles, highlights=highlights,path='sample_mol.png')"
   ]
  },
  {
   "cell_type": "code",
   "execution_count": null,
   "id": "addb9274",
   "metadata": {},
   "outputs": [],
   "source": []
  }
 ],
 "metadata": {
  "kernelspec": {
   "display_name": "Python 3 (ipykernel)",
   "language": "python",
   "name": "python3"
  },
  "language_info": {
   "codemirror_mode": {
    "name": "ipython",
    "version": 3
   },
   "file_extension": ".py",
   "mimetype": "text/x-python",
   "name": "python",
   "nbconvert_exporter": "python",
   "pygments_lexer": "ipython3",
   "version": "3.8.12"
  }
 },
 "nbformat": 4,
 "nbformat_minor": 5
}
