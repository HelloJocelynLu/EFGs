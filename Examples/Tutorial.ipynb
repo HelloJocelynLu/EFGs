{
 "cells": [
  {
   "cell_type": "markdown",
   "metadata": {
    "toc": true
   },
   "source": [
    "<h1>Table of Contents<span class=\"tocSkip\"></span></h1>\n",
    "<div class=\"toc\"><ul class=\"toc-item\"><li><span><a href=\"#Extended-Functional-Groups-(EFGs)\" data-toc-modified-id=\"Extended-Functional-Groups-(EFGs)-1\"><span class=\"toc-item-num\">1&nbsp;&nbsp;</span>Extended Functional Groups (EFGs)</a></span><ul class=\"toc-item\"><li><span><a href=\"#Obtain-EFGs-from-a-dataset\" data-toc-modified-id=\"Obtain-EFGs-from-a-dataset-1.1\"><span class=\"toc-item-num\">1.1&nbsp;&nbsp;</span>Obtain EFGs from a dataset</a></span></li><li><span><a href=\"#Decompose-a-molecule-based-on-current-vocabulary\" data-toc-modified-id=\"Decompose-a-molecule-based-on-current-vocabulary-1.2\"><span class=\"toc-item-num\">1.2&nbsp;&nbsp;</span>Decompose a molecule based on current vocabulary</a></span></li></ul></li></ul></div>"
   ]
  },
  {
   "cell_type": "markdown",
   "metadata": {},
   "source": [
    "# Extended Functional Groups (EFGs)"
   ]
  },
  {
   "cell_type": "markdown",
   "metadata": {},
   "source": [
    "## Obtain EFGs from a dataset"
   ]
  },
  {
   "cell_type": "code",
   "execution_count": 1,
   "metadata": {
    "ExecuteTime": {
     "end_time": "2019-10-22T21:08:20.347365Z",
     "start_time": "2019-10-22T21:08:20.075519Z"
    }
   },
   "outputs": [],
   "source": [
    "# Load data\n",
    "import torch\n",
    "qm9 = torch.load('QM9smiles.pt')"
   ]
  },
  {
   "cell_type": "markdown",
   "metadata": {},
   "source": [
    "Check the version:"
   ]
  },
  {
   "cell_type": "code",
   "execution_count": 2,
   "metadata": {
    "ExecuteTime": {
     "end_time": "2019-10-22T21:08:21.420236Z",
     "start_time": "2019-10-22T21:08:21.350930Z"
    }
   },
   "outputs": [
    {
     "data": {
      "text/plain": [
       "'0.8.2'"
      ]
     },
     "execution_count": 2,
     "metadata": {},
     "output_type": "execute_result"
    }
   ],
   "source": [
    "import EFGs\n",
    "EFGs.__version__"
   ]
  },
  {
   "cell_type": "markdown",
   "metadata": {},
   "source": [
    "First those molecules would go through initial fragmentation:\n",
    "<br>\n",
    "* mol2frag helps to find fragments in molecules\n",
    "* counter is a small tool to store vocabulary as `{EFG:frequency}` format"
   ]
  },
  {
   "cell_type": "markdown",
   "metadata": {},
   "source": [
    "Below is just one example with explicit Hs been taken into consideration. There are lots of available options:\n",
    "```python\n",
    "def mol2frag(raw_mol, TreatHs='ignore', returnidx=False, toEnd=False, vocabulary=(), extra_included=False, isomericSmiles=True, UnknownIdentity=False, extra_backup={})\n",
    "    '''\n",
    "    raw_mol: rdkit mol object to be decompose\n",
    "    TreatHs: The way to treat Hs. Default: 'ignore' (Other options: 'separate': treat Hs separately; 'include': merged to neighboring EFGs) \n",
    "    returnidx: Whether cooresponding atom index of EFGs shouls be returned. (Default=False)\n",
    "    toEnd: Whether to decompose to the end. (Default=False, will only do 1-step decomposition)\n",
    "    vocabulary: A list of smiles which contains EFGs. This argument would be ignore if toEnd=False. If toEnd is set to True, this argument is required. (Default=None)\n",
    "    extra_included: If fragments outside of vocabulary should be parsed. (Default=False, will throw an error if a fragment cannot be found in vocabulary). When it is set to True, additional fragments would be simply classified based on their aromaticity.\n",
    "    extra_backup: If an empty dictionary is provided, additional fragnents' smiles would be added. \n",
    "    return:\n",
    "    Functional groups' smiles (or 'Aromatic'/'Non-aromatic') and C/Hs\n",
    "    (or)\n",
    "    Functional groups' smiles (or 'Aromatic'/'Non-aromatic'), C/Hs, atom indices of funtional groups\n",
    "    and CHs (if returnidx=True)\n",
    "    '''\n",
    "```"
   ]
  },
  {
   "cell_type": "code",
   "execution_count": 4,
   "metadata": {
    "ExecuteTime": {
     "end_time": "2019-10-22T21:12:39.570898Z",
     "start_time": "2019-10-22T21:08:33.653216Z"
    }
   },
   "outputs": [],
   "source": [
    "from rdkit import Chem\n",
    "from EFGs import mol2frag, counter\n",
    "word = {}\n",
    "for smiles in qm9:\n",
    "    mol = Chem.MolFromSmiles(smiles)\n",
    "    a,b=mol2frag(mol, TreatHs='include', isomericSmiles=False)\n",
    "    for fg in a+b:\n",
    "        counter(fg, word)"
   ]
  },
  {
   "cell_type": "markdown",
   "metadata": {},
   "source": [
    "We can save a total vocabulary library:"
   ]
  },
  {
   "cell_type": "code",
   "execution_count": 5,
   "metadata": {
    "ExecuteTime": {
     "end_time": "2019-10-22T21:12:39.578245Z",
     "start_time": "2019-10-22T21:12:39.572513Z"
    }
   },
   "outputs": [],
   "source": [
    "torch.save(word, 'initial_vocab.pt')"
   ]
  },
  {
   "cell_type": "code",
   "execution_count": 6,
   "metadata": {
    "ExecuteTime": {
     "end_time": "2019-10-22T21:12:39.586102Z",
     "start_time": "2019-10-22T21:12:39.581269Z"
    }
   },
   "outputs": [
    {
     "data": {
      "text/plain": [
       "2681"
      ]
     },
     "execution_count": 6,
     "metadata": {},
     "output_type": "execute_result"
    }
   ],
   "source": [
    "len(word)"
   ]
  },
  {
   "cell_type": "markdown",
   "metadata": {},
   "source": [
    "The initial vocabulary is way too large, let's do further fragmentation for those low frequency EFGs:"
   ]
  },
  {
   "cell_type": "markdown",
   "metadata": {},
   "source": [
    "The default value for a parameter alpha is 0.7, which means those EFGs ranking after 0.7\\*len(vocab) would be further decompose.\n",
    "```python\n",
    "def cleavage(dictionary, alpha = 0.7, isomericSmiles=True)\n",
    "```"
   ]
  },
  {
   "cell_type": "code",
   "execution_count": 7,
   "metadata": {
    "ExecuteTime": {
     "end_time": "2019-10-22T21:12:42.899096Z",
     "start_time": "2019-10-22T21:12:39.588062Z"
    }
   },
   "outputs": [],
   "source": [
    "from EFGs import cleavage\n",
    "cleavage(word, isomericSmiles=False)"
   ]
  },
  {
   "cell_type": "code",
   "execution_count": 8,
   "metadata": {
    "ExecuteTime": {
     "end_time": "2019-10-22T21:12:44.623854Z",
     "start_time": "2019-10-22T21:12:44.620294Z"
    }
   },
   "outputs": [
    {
     "data": {
      "text/plain": [
       "1186"
      ]
     },
     "execution_count": 8,
     "metadata": {},
     "output_type": "execute_result"
    }
   ],
   "source": [
    "len(word)"
   ]
  },
  {
   "cell_type": "markdown",
   "metadata": {
    "ExecuteTime": {
     "end_time": "2019-10-22T21:14:25.646164Z",
     "start_time": "2019-10-22T21:14:25.632020Z"
    }
   },
   "source": [
    "So here we got our final vocabulary."
   ]
  },
  {
   "cell_type": "code",
   "execution_count": 14,
   "metadata": {
    "ExecuteTime": {
     "end_time": "2019-10-22T21:19:10.024005Z",
     "start_time": "2019-10-22T21:19:10.020990Z"
    }
   },
   "outputs": [
    {
     "data": {
      "text/plain": [
       "'CC12CC1C(=O)O2'"
      ]
     },
     "execution_count": 14,
     "metadata": {},
     "output_type": "execute_result"
    }
   ],
   "source": [
    "qm9[1904]"
   ]
  },
  {
   "cell_type": "code",
   "execution_count": 10,
   "metadata": {
    "ExecuteTime": {
     "end_time": "2019-10-22T21:16:39.693140Z",
     "start_time": "2019-10-22T21:16:39.689222Z"
    }
   },
   "outputs": [],
   "source": [
    "torch.save(word, 'vocab_cut0.7.pt')"
   ]
  },
  {
   "cell_type": "markdown",
   "metadata": {},
   "source": [
    "## Decompose a molecule based on current vocabulary"
   ]
  },
  {
   "cell_type": "markdown",
   "metadata": {},
   "source": [
    "We will still use the same function: mol2frag"
   ]
  },
  {
   "cell_type": "code",
   "execution_count": 15,
   "metadata": {
    "ExecuteTime": {
     "end_time": "2019-10-22T21:19:29.018603Z",
     "start_time": "2019-10-22T21:19:28.966266Z"
    }
   },
   "outputs": [
    {
     "data": {
      "image/png": "[encoded data removed]",
      "text/plain": [
       "<rdkit.Chem.rdchem.Mol at 0x1291df760>"
      ]
     },
     "execution_count": 15,
     "metadata": {},
     "output_type": "execute_result"
    }
   ],
   "source": [
    "from rdkit.Chem.Draw import IPythonConsole\n",
    "mol = Chem.MolFromSmiles('CC12CC1C(=O)O2')\n",
    "mol"
   ]
  },
  {
   "cell_type": "markdown",
   "metadata": {},
   "source": [
    "The function can also return atom index if returnidx=True. Note that the vocabulary inputs have to be a list."
   ]
  },
  {
   "cell_type": "code",
   "execution_count": 17,
   "metadata": {
    "ExecuteTime": {
     "end_time": "2019-10-22T21:20:22.088454Z",
     "start_time": "2019-10-22T21:20:22.082432Z"
    }
   },
   "outputs": [
    {
     "data": {
      "text/plain": [
       "(['O=CO'],\n",
       " ['C010', 'C040', 'C020', 'C030'],\n",
       " [(4, 5, 6)],\n",
       " [(0,), (1,), (2,), (3,)])"
      ]
     },
     "execution_count": 17,
     "metadata": {},
     "output_type": "execute_result"
    }
   ],
   "source": [
    "mol2frag(mol, returnidx=True, vocabulary=list(word), toEnd=True, extra_included=True, TreatHs='include', isomericSmiles=False)"
   ]
  }
 ],
 "metadata": {
  "kernelspec": {
   "display_name": "python3",
   "language": "python",
   "name": "python3"
  },
  "language_info": {
   "codemirror_mode": {
    "name": "ipython",
    "version": 3
   },
   "file_extension": ".py",
   "mimetype": "text/x-python",
   "name": "python",
   "nbconvert_exporter": "python",
   "pygments_lexer": "ipython3",
   "version": "3.6.8"
  },
  "toc": {
   "base_numbering": 1,
   "nav_menu": {},
   "number_sections": true,
   "sideBar": true,
   "skip_h1_title": false,
   "title_cell": "Table of Contents",
   "title_sidebar": "Contents",
   "toc_cell": true,
   "toc_position": {
    "height": "calc(100% - 180px)",
    "left": "10px",
    "top": "150px",
    "width": "234.5500030517578px"
   },
   "toc_section_display": true,
   "toc_window_display": false
  }
 },
 "nbformat": 4,
 "nbformat_minor": 2
}
