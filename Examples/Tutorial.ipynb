{
 "cells": [
  {
   "cell_type": "markdown",
   "metadata": {
    "toc": true
   },
   "source": [
    "<h1>Table of Contents<span class=\"tocSkip\"></span></h1>\n",
    "<div class=\"toc\"><ul class=\"toc-item\"><li><span><a href=\"#Extended-Functional-Groups-(EFGs)\" data-toc-modified-id=\"Extended-Functional-Groups-(EFGs)-1\"><span class=\"toc-item-num\">1&nbsp;&nbsp;</span>Extended Functional Groups (EFGs)</a></span><ul class=\"toc-item\"><li><span><a href=\"#Fragmentation-on-molecules\" data-toc-modified-id=\"Fragmentation-on-molecules-1.1\"><span class=\"toc-item-num\">1.1&nbsp;&nbsp;</span>Fragmentation on molecules</a></span></li><li><span><a href=\"#Obtain-EFGs-from-a-dataset\" data-toc-modified-id=\"Obtain-EFGs-from-a-dataset-1.2\"><span class=\"toc-item-num\">1.2&nbsp;&nbsp;</span>Obtain EFGs from a dataset</a></span></li><li><span><a href=\"#Decompose-a-molecule-based-on-current-vocabulary\" data-toc-modified-id=\"Decompose-a-molecule-based-on-current-vocabulary-1.3\"><span class=\"toc-item-num\">1.3&nbsp;&nbsp;</span>Decompose a molecule based on current vocabulary</a></span></li></ul></li></ul></div>"
   ]
  },
  {
   "cell_type": "markdown",
   "metadata": {},
   "source": [
    "# Extended Functional Groups (EFGs)"
   ]
  },
  {
   "cell_type": "markdown",
   "metadata": {},
   "source": [
    "Check the version:"
   ]
  },
  {
   "cell_type": "code",
   "execution_count": 1,
   "metadata": {
    "ExecuteTime": {
     "end_time": "2021-01-06T03:12:27.134338Z",
     "start_time": "2021-01-06T03:12:26.930538Z"
    },
    "scrolled": true
   },
   "outputs": [
    {
     "data": {
      "text/plain": [
       "'0.8.4'"
      ]
     },
     "execution_count": 1,
     "metadata": {},
     "output_type": "execute_result"
    }
   ],
   "source": [
    "import EFGs\n",
    "EFGs.__version__"
   ]
  },
  {
   "cell_type": "markdown",
   "metadata": {},
   "source": [
    "## Fragmentation on molecules"
   ]
  },
  {
   "cell_type": "code",
   "execution_count": 2,
   "metadata": {
    "ExecuteTime": {
     "end_time": "2021-01-06T03:12:28.264386Z",
     "start_time": "2021-01-06T03:12:28.256759Z"
    }
   },
   "outputs": [],
   "source": [
    "from rdkit.Chem.Draw import IPythonConsole\n",
    "from rdkit import Chem\n",
    "from EFGs import mol2frag"
   ]
  },
  {
   "cell_type": "markdown",
   "metadata": {},
   "source": [
    "Obtain a `mol` object with `rdkit`:"
   ]
  },
  {
   "cell_type": "code",
   "execution_count": 3,
   "metadata": {
    "ExecuteTime": {
     "end_time": "2021-01-06T03:12:29.133039Z",
     "start_time": "2021-01-06T03:12:29.120710Z"
    },
    "scrolled": false
   },
   "outputs": [],
   "source": [
    "mol = Chem.MolFromSmiles('CC1=CC2=C(C(=C1)O)C(=O)C3=C(C2=O)C=CC=C3O')\n",
    "for atom in mol.GetAtoms():\n",
    "    atom.SetAtomMapNum(atom.GetIdx())"
   ]
  },
  {
   "cell_type": "markdown",
   "metadata": {},
   "source": [
    "Simply call `mol2frag` can excute basic decomposition on a molecule."
   ]
  },
  {
   "cell_type": "markdown",
   "metadata": {},
   "source": [
    "The philosophy of EFG (Extended functional group) is to do fragmentation on molecules so that all fragments of the molecule are **chemical valid**. To do that, we:\n",
    "1. **Identify aromatic structures**. If two atoms shared the same aromatic ring system, they would be merged.\n",
    "2. **Identify special substructures**:\n",
    "    * Mark all heteroatoms in a molecule\n",
    "    * Mark ‘special’ carbon atoms (carbon atoms with double/triple bonds, acetal carbons and three-membered heterocycles.)\n",
    "    * Merge all connected marked atoms to a single functional group\n",
    "3. **Identify simple carbon chains**: sp3 carbons connected by two or more hydrogens\n",
    "4. **Other single atoms**\n",
    "The number of single atoms can be significantly reduced by defining subclasses and merging some of them together. All atoms are classified by their aromaticity, degree and formal charge and recorded as element symbol followed by three number corresponding to above properties. For example, Hydrogen ($H_2$) would be H010, methyl group would be C010."
   ]
  },
  {
   "cell_type": "code",
   "execution_count": 4,
   "metadata": {
    "ExecuteTime": {
     "end_time": "2021-01-06T03:12:30.988041Z",
     "start_time": "2021-01-06T03:12:30.964955Z"
    }
   },
   "outputs": [
    {
     "data": {
      "text/plain": [
       "(['O', 'C=O', 'C=O', 'O', 'c1ccccc1', 'c1ccccc1'], ['C010'])"
      ]
     },
     "execution_count": 4,
     "metadata": {},
     "output_type": "execute_result"
    }
   ],
   "source": [
    "mol2frag(mol)"
   ]
  },
  {
   "cell_type": "markdown",
   "metadata": {},
   "source": [
    "By default, the result returns a tuple of two lists: The first contains functional groups and the second contains the extended part. But you can also set `returnidx=True` so that it would also return atom indices:"
   ]
  },
  {
   "cell_type": "code",
   "execution_count": 5,
   "metadata": {
    "ExecuteTime": {
     "end_time": "2021-01-06T03:12:33.260632Z",
     "start_time": "2021-01-06T03:12:33.211940Z"
    }
   },
   "outputs": [
    {
     "name": "stdout",
     "output_type": "stream",
     "text": [
      "['O', 'C=O', 'C=O', 'O', 'c1ccccc1', 'c1ccccc1'] ['C010'] [(7,), (8, 9), (12, 13), (18,), (1, 2, 3, 4, 5, 6), (16, 17, 10, 11, 14, 15)] [(0,)]\n"
     ]
    },
    {
     "data": {
      "image/png": "[encoded data removed]",
      "text/plain": [
       "<rdkit.Chem.rdchem.Mol at 0x7efcb0e97da0>"
      ]
     },
     "metadata": {},
     "output_type": "display_data"
    }
   ],
   "source": [
    "print(*mol2frag(mol, returnidx=True))\n",
    "display(mol)"
   ]
  },
  {
   "cell_type": "markdown",
   "metadata": {},
   "source": [
    "## Obtain EFGs from a dataset"
   ]
  },
  {
   "cell_type": "code",
   "execution_count": 6,
   "metadata": {
    "ExecuteTime": {
     "end_time": "2021-01-06T03:12:44.654353Z",
     "start_time": "2021-01-06T03:12:44.635404Z"
    }
   },
   "outputs": [],
   "source": [
    "# Load data\n",
    "import pickle\n",
    "with open(\"QM9smiles.pt\",'rb') as file: \n",
    "    qm9 = pickle.load(file)"
   ]
  },
  {
   "cell_type": "markdown",
   "metadata": {},
   "source": [
    "`qm9` is a list of smiles:"
   ]
  },
  {
   "cell_type": "code",
   "execution_count": 7,
   "metadata": {
    "ExecuteTime": {
     "end_time": "2021-01-06T03:12:45.963823Z",
     "start_time": "2021-01-06T03:12:45.947548Z"
    }
   },
   "outputs": [
    {
     "data": {
      "text/plain": [
       "(133246, ['C', 'N', 'O', 'C#C', 'C#N', 'C=O', 'CC', 'CO', 'CC#C', 'CC#N'])"
      ]
     },
     "execution_count": 7,
     "metadata": {},
     "output_type": "execute_result"
    }
   ],
   "source": [
    "len(qm9), qm9[:10]"
   ]
  },
  {
   "cell_type": "markdown",
   "metadata": {},
   "source": [
    "First those molecules would go through initial fragmentation:\n",
    "<br>\n",
    "* mol2frag helps to find fragments in molecules\n",
    "* counter is used to store vocabulary frequency"
   ]
  },
  {
   "cell_type": "markdown",
   "metadata": {},
   "source": [
    "Below is just one example with explicit Hs been taken into consideration. There are lots of available options:\n",
    "```python\n",
    "def mol2frag(raw_mol, TreatHs='ignore', returnidx=False, toEnd=False, vocabulary=(), extra_included=False, isomericSmiles=True, extra_backup={})\n",
    "    '''\n",
    "    raw_mol: rdkit mol object to be decompose\n",
    "    TreatHs: (optional) The way to treat Hs. Default: 'ignore' (Other options: 'separate': treat Hs separately; 'include': merged to neighboring EFGs) \n",
    "    returnidx: (optional) Whether cooresponding atom index of EFGs shouls be returned. (Default=False)\n",
    "    toEnd: Whether to decompose to the end. (Default=False, will only do 1-step decomposition)\n",
    "    vocabulary: (optional) A list of smiles which contains EFGs. This argument would be ignore if \n",
    "    toEnd=False. If toEnd is set to True, this argument is required. (Default=None)\n",
    "    extra_included: (optional) If fragments outside of vocabulary should be parsed. (Default=False, will throw\n",
    "    an error if a fragment cannot be found in vocabulary). When it is set to True, additional fragments\n",
    "    would be simply classified based on their aromaticity.\n",
    "    isomericSmiles: (optional) include information about stereochemistry in the SMILES.\n",
    "    extra_backup: (optional) If an empty dictionary is provided, additional fragments' smiles would be added. \n",
    "    return:\n",
    "    Functional groups' smiles (or 'Aromatic'/'Non-aromatic') and C/Hs\n",
    "    (or)\n",
    "    Functional groups' smiles (or 'Aromatic'/'Non-aromatic'), C/Hs, atom indices of funtional groups\n",
    "    and CHs (if returnidx=True)\n",
    "    '''\n",
    "```"
   ]
  },
  {
   "cell_type": "code",
   "execution_count": 8,
   "metadata": {
    "ExecuteTime": {
     "end_time": "2021-01-06T03:12:47.376036Z",
     "start_time": "2021-01-06T03:12:47.367196Z"
    }
   },
   "outputs": [],
   "source": [
    "from collections import Counter"
   ]
  },
  {
   "cell_type": "code",
   "execution_count": 9,
   "metadata": {
    "ExecuteTime": {
     "end_time": "2021-01-06T03:17:56.509251Z",
     "start_time": "2021-01-06T03:12:48.119775Z"
    }
   },
   "outputs": [],
   "source": [
    "word = Counter()\n",
    "for smiles in qm9:\n",
    "    mol = Chem.MolFromSmiles(smiles)\n",
    "    a,b=mol2frag(mol)\n",
    "    word.update(a+b)"
   ]
  },
  {
   "cell_type": "markdown",
   "metadata": {},
   "source": [
    "Now we get a EFG vocabulary of size 2681:"
   ]
  },
  {
   "cell_type": "code",
   "execution_count": 10,
   "metadata": {
    "ExecuteTime": {
     "end_time": "2021-01-06T03:17:56.515794Z",
     "start_time": "2021-01-06T03:17:56.511129Z"
    },
    "scrolled": true
   },
   "outputs": [
    {
     "data": {
      "text/plain": [
       "2681"
      ]
     },
     "execution_count": 10,
     "metadata": {},
     "output_type": "execute_result"
    }
   ],
   "source": [
    "len(word)"
   ]
  },
  {
   "cell_type": "code",
   "execution_count": 11,
   "metadata": {
    "ExecuteTime": {
     "end_time": "2021-01-06T03:17:56.526394Z",
     "start_time": "2021-01-06T03:17:56.517762Z"
    }
   },
   "outputs": [
    {
     "data": {
      "text/plain": [
       "[('C030', 162701),\n",
       " ('C020', 117444),\n",
       " ('C010', 98578),\n",
       " ('O', 84719),\n",
       " ('C040', 47981),\n",
       " ('CC', 42102),\n",
       " ('C=O', 21402),\n",
       " ('N', 20302),\n",
       " ('C#N', 14348),\n",
       " ('C#C', 14129)]"
      ]
     },
     "execution_count": 11,
     "metadata": {},
     "output_type": "execute_result"
    }
   ],
   "source": [
    "word.most_common(10)"
   ]
  },
  {
   "cell_type": "markdown",
   "metadata": {},
   "source": [
    "We can save a total vocabulary library:"
   ]
  },
  {
   "cell_type": "code",
   "execution_count": 12,
   "metadata": {
    "ExecuteTime": {
     "end_time": "2021-01-06T03:17:56.532004Z",
     "start_time": "2021-01-06T03:17:56.528277Z"
    }
   },
   "outputs": [],
   "source": [
    "file = open('initial_vocab.pt', 'wb') \n",
    "pickle.dump(word,file) \n",
    "file.close() "
   ]
  },
  {
   "cell_type": "markdown",
   "metadata": {},
   "source": [
    "If the initial vocabulary is way too large, we can do further fragmentation for those EFGs with low frequency:"
   ]
  },
  {
   "cell_type": "markdown",
   "metadata": {},
   "source": [
    "The default value for parameter `alpha` is 0.7, which means those EFGs ranking after 0.7\\*len(vocab) would be further decomposed.\n",
    "```python\n",
    "def cleavage(dictionary, alpha = 0.7, isomericSmiles=True)\n",
    "```"
   ]
  },
  {
   "cell_type": "code",
   "execution_count": 13,
   "metadata": {
    "ExecuteTime": {
     "end_time": "2021-01-06T03:18:00.548678Z",
     "start_time": "2021-01-06T03:17:56.533301Z"
    }
   },
   "outputs": [],
   "source": [
    "from EFGs import cleavage\n",
    "cleavage(word)"
   ]
  },
  {
   "cell_type": "markdown",
   "metadata": {
    "ExecuteTime": {
     "end_time": "2019-10-22T21:14:25.646164Z",
     "start_time": "2019-10-22T21:14:25.632020Z"
    }
   },
   "source": [
    "So here we got our reduced vocabulary."
   ]
  },
  {
   "cell_type": "code",
   "execution_count": 14,
   "metadata": {
    "ExecuteTime": {
     "end_time": "2021-01-06T03:18:00.555007Z",
     "start_time": "2021-01-06T03:18:00.550045Z"
    }
   },
   "outputs": [
    {
     "data": {
      "text/plain": [
       "1186"
      ]
     },
     "execution_count": 14,
     "metadata": {},
     "output_type": "execute_result"
    }
   ],
   "source": [
    "len(word)"
   ]
  },
  {
   "cell_type": "markdown",
   "metadata": {},
   "source": [
    "## Decompose a molecule based on current vocabulary"
   ]
  },
  {
   "cell_type": "markdown",
   "metadata": {},
   "source": [
    "We will still use the same function: mol2frag"
   ]
  },
  {
   "cell_type": "markdown",
   "metadata": {},
   "source": [
    "You can pass a list to `mol2frag` so the decomposition would based on EFGs in the provided list. In that case, you need to set `toEnd=True` to allow further decomposition. Sometimes an EFG could be too large to find exact match, while whose substructures may have been included."
   ]
  },
  {
   "cell_type": "markdown",
   "metadata": {},
   "source": [
    "`WordNotFound Error` would be raised if an EFG is not provided in vocabulary, to avoid this, you can set `extra_included=True`. If you want to keep track of those exceptions, you can pass a dictionary to `extra_backup`."
   ]
  },
  {
   "cell_type": "code",
   "execution_count": 15,
   "metadata": {
    "ExecuteTime": {
     "end_time": "2021-01-06T03:18:00.626250Z",
     "start_time": "2021-01-06T03:18:00.557900Z"
    }
   },
   "outputs": [
    {
     "ename": "WordNotFoundError",
     "evalue": "{'[NH2+]=c1[nH]cc[nH]1'} not found.",
     "output_type": "error",
     "traceback": [
      "\u001b[0;31m---------------------------------------------------------------------------\u001b[0m",
      "\u001b[0;31mWordNotFoundError\u001b[0m                         Traceback (most recent call last)",
      "\u001b[0;32m<ipython-input-15-d54ff6c2c131>\u001b[0m in \u001b[0;36m<module>\u001b[0;34m\u001b[0m\n\u001b[1;32m      1\u001b[0m \u001b[0mmol\u001b[0m \u001b[0;34m=\u001b[0m \u001b[0mChem\u001b[0m\u001b[0;34m.\u001b[0m\u001b[0mMolFromSmiles\u001b[0m\u001b[0;34m(\u001b[0m\u001b[0;34m'[O-]C(=O)C1=CNC(=[NH2+])N1'\u001b[0m\u001b[0;34m)\u001b[0m\u001b[0;34m\u001b[0m\u001b[0;34m\u001b[0m\u001b[0m\n\u001b[0;32m----> 2\u001b[0;31m \u001b[0mmol2frag\u001b[0m\u001b[0;34m(\u001b[0m\u001b[0mmol\u001b[0m\u001b[0;34m,\u001b[0m \u001b[0mtoEnd\u001b[0m\u001b[0;34m=\u001b[0m\u001b[0;32mTrue\u001b[0m\u001b[0;34m,\u001b[0m \u001b[0mvocabulary\u001b[0m\u001b[0;34m=\u001b[0m\u001b[0mlist\u001b[0m\u001b[0;34m(\u001b[0m\u001b[0mword\u001b[0m\u001b[0;34m)\u001b[0m\u001b[0;34m)\u001b[0m\u001b[0;34m\u001b[0m\u001b[0;34m\u001b[0m\u001b[0m\n\u001b[0m",
      "\u001b[0;32m~/anaconda3/envs/playground/lib/python3.6/site-packages/EFGs-0.8.4-py3.6.egg/EFGs/three_level_frag.py\u001b[0m in \u001b[0;36mmol2frag\u001b[0;34m(raw_mol, TreatHs, returnidx, toEnd, vocabulary, extra_included, isomericSmiles, UnknownIdentity, extra_backup)\u001b[0m\n\u001b[1;32m    378\u001b[0m     \u001b[0;32mif\u001b[0m \u001b[0;32mnot\u001b[0m \u001b[0mset\u001b[0m\u001b[0;34m(\u001b[0m\u001b[0mnonCHs\u001b[0m\u001b[0;34m+\u001b[0m\u001b[0mCHs\u001b[0m\u001b[0;34m)\u001b[0m\u001b[0;34m<=\u001b[0m\u001b[0mset\u001b[0m\u001b[0;34m(\u001b[0m\u001b[0mvocabulary\u001b[0m\u001b[0;34m)\u001b[0m \u001b[0;32mand\u001b[0m \u001b[0mlen\u001b[0m\u001b[0;34m(\u001b[0m\u001b[0mvocabulary\u001b[0m\u001b[0;34m)\u001b[0m\u001b[0;34m>\u001b[0m\u001b[0;36m0\u001b[0m\u001b[0;34m:\u001b[0m\u001b[0;34m\u001b[0m\u001b[0;34m\u001b[0m\u001b[0m\n\u001b[1;32m    379\u001b[0m         \u001b[0;32mif\u001b[0m \u001b[0;32mnot\u001b[0m \u001b[0mextra_included\u001b[0m\u001b[0;34m:\u001b[0m\u001b[0;34m\u001b[0m\u001b[0;34m\u001b[0m\u001b[0m\n\u001b[0;32m--> 380\u001b[0;31m             \u001b[0;32mraise\u001b[0m \u001b[0mWordNotFoundError\u001b[0m\u001b[0;34m(\u001b[0m\u001b[0;34m'{} not found.'\u001b[0m\u001b[0;34m.\u001b[0m\u001b[0mformat\u001b[0m\u001b[0;34m(\u001b[0m\u001b[0mset\u001b[0m\u001b[0;34m(\u001b[0m\u001b[0mnonCHs\u001b[0m\u001b[0;34m+\u001b[0m\u001b[0mCHs\u001b[0m\u001b[0;34m)\u001b[0m\u001b[0;34m.\u001b[0m\u001b[0mdifference\u001b[0m\u001b[0;34m(\u001b[0m\u001b[0mvocabulary\u001b[0m\u001b[0;34m)\u001b[0m\u001b[0;34m)\u001b[0m\u001b[0;34m)\u001b[0m\u001b[0;34m\u001b[0m\u001b[0;34m\u001b[0m\u001b[0m\n\u001b[0m\u001b[1;32m    381\u001b[0m         \u001b[0;32melse\u001b[0m\u001b[0;34m:\u001b[0m\u001b[0;34m\u001b[0m\u001b[0;34m\u001b[0m\u001b[0m\n\u001b[1;32m    382\u001b[0m             \u001b[0mextras\u001b[0m \u001b[0;34m=\u001b[0m \u001b[0mset\u001b[0m\u001b[0;34m(\u001b[0m\u001b[0mnonCHs\u001b[0m\u001b[0;34m+\u001b[0m\u001b[0mCHs\u001b[0m\u001b[0;34m)\u001b[0m\u001b[0;34m.\u001b[0m\u001b[0mdifference\u001b[0m\u001b[0;34m(\u001b[0m\u001b[0mvocabulary\u001b[0m\u001b[0;34m)\u001b[0m\u001b[0;34m\u001b[0m\u001b[0;34m\u001b[0m\u001b[0m\n",
      "\u001b[0;31mWordNotFoundError\u001b[0m: {'[NH2+]=c1[nH]cc[nH]1'} not found."
     ]
    }
   ],
   "source": [
    "mol = Chem.MolFromSmiles('[O-]C(=O)C1=CNC(=[NH2+])N1')\n",
    "mol2frag(mol, toEnd=True, vocabulary=list(word))"
   ]
  },
  {
   "cell_type": "code",
   "execution_count": 16,
   "metadata": {
    "ExecuteTime": {
     "end_time": "2021-01-06T03:18:18.614683Z",
     "start_time": "2021-01-06T03:18:18.591234Z"
    }
   },
   "outputs": [
    {
     "name": "stdout",
     "output_type": "stream",
     "text": [
      "(['O=C[O-]', 'Aromatic'], [])\n",
      "{'Aromatic': {'[NH2+]=c1[nH]cc[nH]1'}}\n"
     ]
    }
   ],
   "source": [
    "my_backup = {}\n",
    "fgs = mol2frag(mol, toEnd=True, vocabulary=list(word), extra_included=True, extra_backup=my_backup)\n",
    "print(fgs)\n",
    "print(my_backup)"
   ]
  },
  {
   "cell_type": "markdown",
   "metadata": {},
   "source": [
    "Let's take a look at the coverage of our current reduced EFGs:"
   ]
  },
  {
   "cell_type": "code",
   "execution_count": 17,
   "metadata": {
    "ExecuteTime": {
     "end_time": "2021-01-06T03:23:28.196850Z",
     "start_time": "2021-01-06T03:18:20.615108Z"
    }
   },
   "outputs": [],
   "source": [
    "extra = 0\n",
    "for smiles in qm9:\n",
    "    mol = Chem.MolFromSmiles(smiles)\n",
    "    try:\n",
    "        mol2frag(mol, toEnd=True, vocabulary=list(word))\n",
    "    except:\n",
    "        extra += 1"
   ]
  },
  {
   "cell_type": "code",
   "execution_count": 18,
   "metadata": {
    "ExecuteTime": {
     "end_time": "2021-01-06T03:23:28.208780Z",
     "start_time": "2021-01-06T03:23:28.200941Z"
    }
   },
   "outputs": [
    {
     "data": {
      "text/plain": [
       "(0.00890083004367861, 0.9946640049232247)"
      ]
     },
     "execution_count": 18,
     "metadata": {},
     "output_type": "execute_result"
    }
   ],
   "source": [
    "len(word)/len(qm9), 1-extra/len(qm9)"
   ]
  },
  {
   "cell_type": "markdown",
   "metadata": {},
   "source": [
    "Now we have a EFG library with only 0.9% original size but have a coverage > 99.5%"
   ]
  }
 ],
 "metadata": {
  "kernelspec": {
   "display_name": "playground",
   "language": "python",
   "name": "playground"
  },
  "language_info": {
   "codemirror_mode": {
    "name": "ipython",
    "version": 3
   },
   "file_extension": ".py",
   "mimetype": "text/x-python",
   "name": "python",
   "nbconvert_exporter": "python",
   "pygments_lexer": "ipython3",
   "version": "3.6.10"
  },
  "toc": {
   "base_numbering": 1,
   "nav_menu": {},
   "number_sections": true,
   "sideBar": true,
   "skip_h1_title": false,
   "title_cell": "Table of Contents",
   "title_sidebar": "Contents",
   "toc_cell": true,
   "toc_position": {
    "height": "calc(100% - 180px)",
    "left": "10px",
    "top": "150px",
    "width": "234.5500030517578px"
   },
   "toc_section_display": true,
   "toc_window_display": false
  }
 },
 "nbformat": 4,
 "nbformat_minor": 2
}
